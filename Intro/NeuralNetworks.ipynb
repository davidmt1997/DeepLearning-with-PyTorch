{
 "cells": [
  {
   "cell_type": "markdown",
   "metadata": {},
   "source": [
    "## Neural Networks with Pytorch\n",
    "\n",
    "Here I build a Neural Network using the nn module"
   ]
  },
  {
   "cell_type": "code",
   "execution_count": 1,
   "metadata": {},
   "outputs": [],
   "source": [
    "# Import necessary packages\n",
    "\n",
    "%matplotlib inline\n",
    "%config InlineBackend.figure_format = 'retina'\n",
    "\n",
    "import numpy as np\n",
    "import torch\n",
    "\n",
    "import helper\n",
    "\n",
    "import matplotlib.pyplot as plt"
   ]
  },
  {
   "cell_type": "code",
   "execution_count": 2,
   "metadata": {},
   "outputs": [],
   "source": [
    "### Run this cell\n",
    "\n",
    "from torchvision import datasets, transforms\n",
    "\n",
    "# Define a transform to normalize the data\n",
    "transform = transforms.Compose([transforms.ToTensor(),\n",
    "                              transforms.Normalize((0.5,), (0.5,)),\n",
    "                              ])\n",
    "\n",
    "# Download and load the training data\n",
    "trainset = datasets.MNIST('~/.pytorch/MNIST_data/', download=True, train=True, transform=transform)\n",
    "\n",
    "# The batch size is the number of images we get in one iteration from the data loader and pass through our network\n",
    "# shuffle=True tells it to shuffle the dataset every time we start going through the data loader again\n",
    "trainloader = torch.utils.data.DataLoader(trainset, batch_size=64, shuffle=True)"
   ]
  },
  {
   "cell_type": "code",
   "execution_count": 3,
   "metadata": {},
   "outputs": [
    {
     "name": "stdout",
     "output_type": "stream",
     "text": [
      "<class 'torch.Tensor'>\n",
      "torch.Size([64, 1, 28, 28])\n",
      "torch.Size([64])\n"
     ]
    }
   ],
   "source": [
    "# making the training data an iterator\n",
    "dataiter = iter(trainloader)\n",
    "images, labels = dataiter.next()\n",
    "print(type(images))\n",
    "print(images.shape)\n",
    "print(labels.shape)"
   ]
  },
  {
   "cell_type": "code",
   "execution_count": 5,
   "metadata": {},
   "outputs": [
    {
     "data": {
      "image/png": "[encoded data removed]",
      "text/plain": [
       "<Figure size 432x288 with 1 Axes>"
      ]
     },
     "metadata": {
      "image/png": {
       "height": 248,
       "width": 251
      },
      "needs_background": "light"
     },
     "output_type": "display_data"
    }
   ],
   "source": [
    "# visualizing a piece of data\n",
    "plt.imshow(images[1].numpy().squeeze(), cmap='Greys_r');"
   ]
  },
  {
   "cell_type": "code",
   "execution_count": 6,
   "metadata": {},
   "outputs": [
    {
     "name": "stdout",
     "output_type": "stream",
     "text": [
      "tensor([[-3.1903e+01, -1.8518e+01,  5.6981e+00, -4.2299e-02,  3.6448e+00,\n",
      "         -8.4460e-02,  4.6317e+00, -8.0485e+00, -1.0833e+01, -7.3802e+00],\n",
      "        [-8.8085e+00, -1.8076e+00,  2.0693e-01,  1.7504e+01, -4.8503e-01,\n",
      "          2.7794e+00, -3.9604e+00,  3.9798e+00, -2.0617e+01, -4.8451e+00],\n",
      "        [-2.5599e+01, -1.7315e+01,  1.0168e-01,  1.4967e+01,  5.5482e+00,\n",
      "         -1.2931e+00,  1.2188e+01, -2.0490e+01, -1.6923e+01, -1.5839e+01],\n",
      "        [-1.8131e+01, -5.7707e+00, -5.0214e-01,  3.1494e+00,  4.7862e+00,\n",
      "          2.1200e+00,  1.8939e+01, -1.4022e+01, -1.1379e+01,  8.8986e+00],\n",
      "        [-3.3156e+01, -1.7609e+01,  1.3843e+00,  6.4225e+00,  5.5211e+00,\n",
      "          9.7100e+00,  1.4248e+01, -1.7917e+01, -9.7221e+00,  1.6346e+00],\n",
      "        [-3.1980e+01, -7.1626e+00,  1.4174e+00,  6.4397e-01,  5.1943e-01,\n",
      "          6.4588e+00,  8.1473e+00, -1.2871e+01, -1.0668e+01,  5.6763e+00],\n",
      "        [-2.4080e+01, -1.4276e+01, -1.4195e-01, -1.4230e+00,  1.0383e+01,\n",
      "          3.7236e+00,  2.8658e+00, -9.1060e+00, -1.2482e+01, -3.4047e+00],\n",
      "        [-1.8458e+01, -1.0535e+01,  5.4931e+00,  5.4510e+00,  3.1182e+00,\n",
      "         -4.8956e+00,  9.9181e+00, -1.0968e+01, -1.9793e+01, -3.9031e+00],\n",
      "        [-2.2894e+01, -1.2135e+01,  9.1817e+00,  1.2240e+01, -2.8731e-01,\n",
      "          3.1705e-01,  6.7058e+00, -5.8241e+00, -1.5720e+01,  7.1973e+00],\n",
      "        [-1.0575e+01, -2.0457e+01, -4.5753e+00,  8.8943e+00,  9.7121e+00,\n",
      "         -1.7271e+00,  6.2980e+00, -1.6901e+01, -4.0492e+00, -1.3385e+00],\n",
      "        [-2.7750e+01, -1.1662e+01,  6.6562e+00,  1.0676e+01, -1.9000e+00,\n",
      "         -2.9646e+00,  2.0988e+00, -1.2406e+01, -1.1284e+01, -5.8027e+00],\n",
      "        [-2.1573e+01, -1.6282e+01,  5.5695e+00,  6.8595e+00,  4.6589e+00,\n",
      "         -7.2921e+00,  8.3517e+00, -9.4017e+00, -1.4815e+01, -6.4003e+00],\n",
      "        [-7.9876e+00, -1.7734e+01,  1.1330e+01,  2.2835e+01, -5.2077e+00,\n",
      "         -7.2647e+00, -3.6780e+00, -4.8404e+00, -1.8574e+01,  3.9071e+00],\n",
      "        [-1.2084e+01, -9.8811e+00,  9.9683e+00,  1.1796e+01,  1.4562e+00,\n",
      "         -1.2949e+00, -2.7408e+00,  1.2207e+00, -1.1863e+01, -2.1355e+00],\n",
      "        [-2.0067e+01, -1.6183e+01,  1.3451e+01,  1.8006e+01, -2.9846e+00,\n",
      "         -6.3757e+00,  5.8638e-01, -1.1976e+01, -1.4916e+01,  4.1542e+00],\n",
      "        [-2.5433e+01, -2.0474e+00, -4.1179e+00,  9.4084e+00,  3.8727e+00,\n",
      "          5.3190e+00,  8.5836e+00, -8.9324e+00, -1.2997e+01,  2.0859e+00],\n",
      "        [-2.8435e+01, -1.3549e+01, -4.2210e+00,  1.0847e+01,  3.5577e+00,\n",
      "          3.5301e+00,  4.5861e+00, -1.6127e+01, -1.0843e+01, -3.0378e-01],\n",
      "        [-2.4389e+01, -1.0865e+01,  2.0808e+00,  2.9799e-01,  8.4334e+00,\n",
      "          9.9740e-01,  4.4004e+00, -3.5560e+00, -1.8520e+01, -8.6445e+00],\n",
      "        [-2.2821e+01, -1.2279e+01,  7.1556e+00, -3.3363e+00,  9.4080e+00,\n",
      "          2.7631e+00, -6.1891e-01, -1.2462e+01, -1.3031e+01,  2.1896e+00],\n",
      "        [-2.5390e+01, -1.3460e+01,  7.2558e+00,  1.1564e+01, -8.4627e-01,\n",
      "         -3.9787e+00,  1.5352e+01, -1.7551e+01, -1.2055e+01, -8.3838e+00],\n",
      "        [-2.3959e+01, -4.2351e+00,  1.0094e+01,  6.4675e+00, -1.3326e+00,\n",
      "         -6.3072e+00,  7.9387e+00, -9.1578e+00, -1.6671e+01,  8.6651e+00],\n",
      "        [-2.8865e+01, -6.6598e+00,  2.3787e+00,  1.3121e+01, -2.1070e+00,\n",
      "         -4.4265e+00,  4.9041e+00, -2.0601e+01, -1.5336e+01,  1.2768e+01],\n",
      "        [-2.3915e+01, -7.6311e+00,  3.5410e+00,  5.5414e+00,  5.5959e+00,\n",
      "         -1.7736e+00,  2.1874e+00, -3.7806e+00, -1.8953e+01,  2.0474e+00],\n",
      "        [-2.4613e+01, -3.3081e+00,  1.3256e+00, -3.0454e-01,  5.5629e+00,\n",
      "          5.7697e-01, -3.4193e+00, -1.0127e+01, -1.1413e+01,  4.2664e+00],\n",
      "        [-2.3428e+01, -9.5854e+00,  7.1793e+00,  1.2484e+01,  5.6917e+00,\n",
      "         -3.8983e+00,  9.7889e+00, -1.1267e+01, -1.8300e+01,  5.0627e+00],\n",
      "        [-2.1233e+01, -1.8278e+01,  1.1343e+01,  1.3954e+01, -8.2331e+00,\n",
      "         -3.0100e+00,  7.2517e+00, -1.3670e+01, -1.9498e+01,  1.2685e+01],\n",
      "        [-1.7154e+01, -1.8639e+00,  8.2959e+00,  5.9028e+00, -5.9454e+00,\n",
      "          6.3074e+00, -5.2142e+00, -9.5863e+00, -1.7940e+01,  8.8515e-01],\n",
      "        [-2.1931e+01, -1.7595e+01,  7.6983e+00,  5.2804e+00,  1.1598e+01,\n",
      "          5.8370e+00, -1.0124e-01, -1.3831e+01, -1.8910e+01, -1.0194e+00],\n",
      "        [-2.4831e+01, -1.1489e+01, -3.2871e-01,  7.8355e+00,  2.4526e+00,\n",
      "         -1.2758e+00,  1.9811e+00, -9.3862e+00, -1.4898e+01,  6.5111e-01],\n",
      "        [-9.4590e+00, -1.4268e+01,  7.2518e+00,  1.7390e+01,  8.2626e+00,\n",
      "         -2.1538e+00, -2.7998e+00, -2.2116e+00, -1.7809e+01,  1.0807e+00],\n",
      "        [-3.2206e+01, -1.5689e+01,  1.0899e+01,  1.1835e+01, -9.6463e-01,\n",
      "          3.9667e+00,  6.8052e+00, -1.8887e+01, -1.4005e+01, -1.8165e+00],\n",
      "        [-2.8149e+01, -1.6432e+01, -2.5856e-01, -3.7636e-01,  6.3096e+00,\n",
      "          2.0670e+00,  7.9251e+00, -7.6173e+00, -1.2491e+01, -1.1229e+01],\n",
      "        [-2.7637e+01, -1.6116e+01,  3.2805e+00,  7.8861e+00,  8.3250e+00,\n",
      "          3.7342e+00,  1.0733e+01, -6.0600e+00, -1.1353e+01, -6.7229e+00],\n",
      "        [-2.1014e+01, -1.5812e+01,  6.1933e+00,  1.8033e+01, -9.2625e+00,\n",
      "          3.5433e+00,  2.8252e+00, -1.1914e+01, -2.1170e+01, -3.9572e+00],\n",
      "        [-2.4282e+01, -1.9158e+01, -2.6796e-01,  1.3281e-01,  7.1964e+00,\n",
      "         -3.8901e-01,  1.0457e+01, -6.1371e+00, -1.9232e+01,  3.4779e+00],\n",
      "        [-1.2635e+01, -1.5310e+01,  1.2461e+01,  1.3171e+01,  7.0614e+00,\n",
      "          3.2758e+00, -4.7732e+00, -9.1359e+00, -1.4865e+01,  4.0270e+00],\n",
      "        [-1.3406e+01, -1.8988e+01,  6.5510e+00,  6.8326e+00,  7.4200e+00,\n",
      "          3.2023e+00,  7.3362e-01, -1.3043e+00, -2.5158e+01, -1.0651e+01],\n",
      "        [-1.5145e+01, -1.9196e+01,  6.1959e+00,  1.2682e+01,  1.0611e+01,\n",
      "          5.1698e+00,  1.0822e+01, -9.0566e+00, -1.3212e+01, -6.3865e+00],\n",
      "        [-1.9056e+01, -1.1274e+01,  1.8031e+00,  1.5943e+00,  2.4842e+00,\n",
      "          2.3401e+00,  6.3644e+00, -9.0232e+00, -8.1604e+00, -9.5866e+00],\n",
      "        [-2.5851e+01, -2.1020e+00,  2.1993e+00,  8.7258e+00,  6.1013e+00,\n",
      "          8.5990e+00,  2.5109e+00, -1.0582e+01, -1.0799e+01,  5.0969e-01],\n",
      "        [-2.4148e+01, -1.1010e+01,  3.7532e+00,  6.2049e+00,  1.0398e+01,\n",
      "         -7.2420e-02,  6.4920e+00, -1.6327e+00, -1.6752e+01, -7.5432e+00],\n",
      "        [-2.3453e+01, -1.5486e+01,  1.6142e+00,  1.1206e+01, -8.8323e+00,\n",
      "          2.0108e+00,  2.1915e+00, -9.6890e+00, -1.9105e+01,  5.6586e+00],\n",
      "        [-2.3778e+01, -1.1045e+01,  1.4044e+00,  8.4560e+00, -6.9003e+00,\n",
      "          1.7833e+00,  1.0691e-01, -1.1387e+01, -1.4334e+01,  3.8671e+00],\n",
      "        [-2.6863e+01, -4.7072e+00,  7.7006e+00,  1.2894e+01,  1.5579e+00,\n",
      "         -2.5560e-01,  6.3516e+00, -2.7906e+00, -2.3338e+01,  6.2617e+00],\n",
      "        [-2.2406e+01, -1.0275e+01,  1.0307e+01,  1.4592e+01,  3.4923e+00,\n",
      "          7.9078e-01,  9.5631e+00, -4.0158e+00, -1.8228e+01, -2.6270e+00],\n",
      "        [-2.3776e+01, -9.8917e+00, -1.1357e-01,  1.3036e+01, -9.3799e+00,\n",
      "         -2.2547e+00,  4.6210e+00, -8.4771e+00, -1.9663e+01, -5.2677e-01],\n",
      "        [-3.5847e+01, -2.3019e+01,  8.3972e+00,  2.9869e+00,  6.5801e+00,\n",
      "          1.1026e+00,  9.4736e+00, -1.0178e+01, -8.2817e+00, -6.2092e+00],\n",
      "        [-1.4202e+01, -1.4406e+01,  1.0120e+01,  1.3038e+01,  4.0291e+00,\n",
      "          6.7362e+00, -1.8283e+00, -2.4386e+00, -9.9110e+00, -1.0665e+01],\n",
      "        [-2.5455e+01, -1.5579e+01,  1.1187e+01,  8.7188e+00,  6.8461e+00,\n",
      "          4.3521e+00,  4.0736e+00, -8.4180e+00, -1.6211e+01, -4.1307e+00],\n",
      "        [-2.0691e+01, -8.8411e+00, -5.8469e-01,  1.0307e+01,  4.0716e+00,\n",
      "          1.6104e+00,  3.4843e+00, -5.7515e+00, -2.2131e+01, -8.7431e+00],\n",
      "        [-2.9072e+01, -1.9103e+01,  2.0210e+00, -8.1490e-01,  9.6978e+00,\n",
      "          2.5859e+00,  9.7597e+00, -3.9332e+00, -1.2548e+01, -5.6410e+00],\n",
      "        [-5.8716e+00, -8.1400e+00,  8.2815e+00,  1.1382e+01,  1.5530e+00,\n",
      "         -1.1853e+00, -2.0193e+00, -4.4756e-01, -5.9254e+00, -3.3158e+00],\n",
      "        [-2.2883e+01, -2.8879e+00,  2.0140e+00,  5.1371e+00,  1.1055e+01,\n",
      "          7.0549e+00,  6.7752e+00, -2.9265e+00, -9.8722e+00, -4.3002e+00],\n",
      "        [-2.7966e+01, -1.3362e+01, -2.2283e+00, -1.1175e+00,  6.8454e+00,\n",
      "         -1.6016e+00,  6.0847e+00, -1.4844e+01, -8.8144e+00, -7.4416e+00],\n",
      "        [-3.1495e+01, -3.6719e+00,  1.0894e+01,  1.1667e+01,  8.0939e+00,\n",
      "          4.4885e+00,  9.7448e+00, -1.1015e+01, -1.6876e+01, -1.8630e+00],\n",
      "        [-1.8670e+01, -1.5584e+01,  8.7147e-01,  1.2556e+01,  3.3154e+00,\n",
      "          4.4091e+00,  1.7590e+00, -6.1589e+00, -1.8172e+01,  7.1284e+00],\n",
      "        [-2.0882e+01, -1.2620e+01,  1.1605e+01,  1.4074e+01,  7.3504e+00,\n",
      "          2.5015e-01,  1.1146e+01, -1.3031e+01, -1.6728e+01,  8.5414e-01],\n",
      "        [-2.7258e+01, -9.7659e+00,  7.1582e+00,  8.0937e+00,  7.9843e-02,\n",
      "          5.7225e+00,  4.0137e-01, -1.0356e+01, -1.7358e+01, -7.4939e+00],\n",
      "        [-2.1172e+01, -8.8458e+00,  1.8475e+01,  1.3127e+01,  2.9698e+00,\n",
      "          5.0516e+00,  1.9031e+01, -1.0171e+01, -2.0064e+01,  1.3751e+01],\n",
      "        [-2.1980e+01, -1.0885e+01,  9.2761e+00,  1.5251e+01, -8.3838e-01,\n",
      "         -2.6018e-01,  4.0394e+00, -8.6552e+00, -1.4649e+01,  3.3622e+00],\n",
      "        [-1.4431e+01, -8.5408e+00, -1.0838e+00,  3.4552e+00,  3.3010e-03,\n",
      "         -2.1698e+00,  1.0035e+01, -7.5148e+00, -1.1818e+01,  3.4612e+00],\n",
      "        [-1.1060e+01, -1.5068e+01,  1.0718e+01,  8.3465e+00,  7.6735e+00,\n",
      "         -7.2530e+00,  4.3540e+00, -9.0834e+00, -2.5030e+01, -5.6937e+00],\n",
      "        [-2.7499e+01, -9.9073e+00,  3.1073e+00,  1.8287e+01, -1.5104e+00,\n",
      "         -4.9064e-01,  2.5467e+00, -9.7243e+00, -1.7997e+01, -2.4246e+00],\n",
      "        [-1.7771e+01, -1.1987e+01,  1.3208e+01,  3.4443e+00, -4.1815e+00,\n",
      "         -1.0263e+01,  8.4108e+00, -2.2495e+00, -2.7156e+01, -2.4923e+00]])\n"
     ]
    }
   ],
   "source": [
    "## Building a simple network manually with weights and biases\n",
    "def activation(x):\n",
    "    return 1/(1+torch.exp(-x))\n",
    "\n",
    "#Flatten the images\n",
    "inputs = images.view(images.shape[0], -1)\n",
    "\n",
    "#Create parameters\n",
    "w1 = torch.randn(784, 256)\n",
    "b1 = torch.randn(256)\n",
    "\n",
    "w2 = torch.randn(256, 10)\n",
    "b2 = torch.randn(10)\n",
    "\n",
    "h = activation(torch.mm(inputs, w1) + b1)\n",
    "out = torch.mm(h, w2) + b2\n",
    "print(out)"
   ]
  },
  {
   "cell_type": "code",
   "execution_count": 7,
   "metadata": {},
   "outputs": [
    {
     "name": "stdout",
     "output_type": "stream",
     "text": [
      "torch.Size([64, 10])\n",
      "tensor([1.0000, 1.0000, 1.0000, 1.0000, 1.0000, 1.0000, 1.0000, 1.0000, 1.0000,\n",
      "        1.0000, 1.0000, 1.0000, 1.0000, 1.0000, 1.0000, 1.0000, 1.0000, 1.0000,\n",
      "        1.0000, 1.0000, 1.0000, 1.0000, 1.0000, 1.0000, 1.0000, 1.0000, 1.0000,\n",
      "        1.0000, 1.0000, 1.0000, 1.0000, 1.0000, 1.0000, 1.0000, 1.0000, 1.0000,\n",
      "        1.0000, 1.0000, 1.0000, 1.0000, 1.0000, 1.0000, 1.0000, 1.0000, 1.0000,\n",
      "        1.0000, 1.0000, 1.0000, 1.0000, 1.0000, 1.0000, 1.0000, 1.0000, 1.0000,\n",
      "        1.0000, 1.0000, 1.0000, 1.0000, 1.0000, 1.0000, 1.0000, 1.0000, 1.0000,\n",
      "        1.0000])\n"
     ]
    }
   ],
   "source": [
    "def softmax(x):\n",
    "    return torch.exp(x)/torch.sum(torch.exp(x), dim=1).view(-1, 1)\n",
    "\n",
    "# Here, out should be the output of the network in the previous excercise with shape (64,10)\n",
    "probabilities = softmax(out)\n",
    "\n",
    "print(probabilities.shape)\n",
    "print(probabilities.sum(dim=1))"
   ]
  },
  {
   "cell_type": "markdown",
   "metadata": {},
   "source": [
    "## Building networks with Pytorch nn"
   ]
  },
  {
   "cell_type": "code",
   "execution_count": 8,
   "metadata": {},
   "outputs": [],
   "source": [
    "from torch import nn"
   ]
  },
  {
   "cell_type": "code",
   "execution_count": 9,
   "metadata": {},
   "outputs": [],
   "source": [
    "# nn.Module creates a class that defines the architecture of the network\n",
    "class Network(nn.Module):\n",
    "    def __init__(self):\n",
    "        super().__init__()\n",
    "        \n",
    "        # Inputs to hidden layer linear transformation\n",
    "        self.hidden = nn.Linear(784, 256)\n",
    "        # Output layer, 10 units - one for each digit\n",
    "        self.output = nn.Linear(256, 10)\n",
    "        \n",
    "        # Define sigmoid activation and softmax output \n",
    "        self.sigmoid = nn.Sigmoid()\n",
    "        self.softmax = nn.Softmax(dim=1)\n",
    "        \n",
    "    def forward(self, x):\n",
    "        # Pass the input tensor through each of our operations\n",
    "        x = self.hidden(x)\n",
    "        x = self.sigmoid(x)\n",
    "        x = self.output(x)\n",
    "        x = self.softmax(x)\n",
    "        \n",
    "        return x"
   ]
  },
  {
   "cell_type": "code",
   "execution_count": 10,
   "metadata": {},
   "outputs": [
    {
     "data": {
      "text/plain": [
       "Network(\n",
       "  (hidden): Linear(in_features=784, out_features=256, bias=True)\n",
       "  (output): Linear(in_features=256, out_features=10, bias=True)\n",
       "  (sigmoid): Sigmoid()\n",
       "  (softmax): Softmax(dim=1)\n",
       ")"
      ]
     },
     "execution_count": 10,
     "metadata": {},
     "output_type": "execute_result"
    }
   ],
   "source": [
    "# visualizing the network\n",
    "model = Network()\n",
    "model"
   ]
  },
  {
   "cell_type": "markdown",
   "metadata": {},
   "source": [
    "Create a network with 784 input units, a hidden layer with 128 units and a ReLU activation, then a hidden layer with 64 units and a ReLU activation, and finally an output layer with a softmax activation"
   ]
  },
  {
   "cell_type": "code",
   "execution_count": 11,
   "metadata": {},
   "outputs": [
    {
     "data": {
      "text/plain": [
       "Network(\n",
       "  (fc1): Linear(in_features=784, out_features=128, bias=True)\n",
       "  (fc2): Linear(in_features=128, out_features=64, bias=True)\n",
       "  (fc3): Linear(in_features=64, out_features=10, bias=True)\n",
       ")"
      ]
     },
     "execution_count": 11,
     "metadata": {},
     "output_type": "execute_result"
    }
   ],
   "source": [
    "## Your solution here\n",
    "import torch.nn.functional as F\n",
    "\n",
    "class Network(nn.Module):\n",
    "    def __init__(self):\n",
    "        super().__init__()\n",
    "        self.fc1 = nn.Linear(784, 128)\n",
    "        self.fc2 = nn.Linear(128, 64)\n",
    "        self.fc3 = nn.Linear(64, 10)\n",
    "    def forward(self, x):\n",
    "        x = self.fc1(x)\n",
    "        x = F.relu(x)\n",
    "        x = self.fc2(x)\n",
    "        x = F.relu(x)\n",
    "        x = self.fc3(x)\n",
    "        x = F.softmax(x, dim=1)\n",
    "        return x\n",
    "    \n",
    "model = Network()\n",
    "model"
   ]
  },
  {
   "cell_type": "code",
   "execution_count": 12,
   "metadata": {},
   "outputs": [
    {
     "name": "stdout",
     "output_type": "stream",
     "text": [
      "Parameter containing:\n",
      "tensor([[-0.0057,  0.0132, -0.0265,  ...,  0.0110, -0.0329,  0.0297],\n",
      "        [-0.0201, -0.0183,  0.0007,  ...,  0.0147,  0.0309, -0.0224],\n",
      "        [ 0.0184, -0.0334,  0.0191,  ...,  0.0052, -0.0336,  0.0168],\n",
      "        ...,\n",
      "        [-0.0007,  0.0109,  0.0296,  ...,  0.0287,  0.0027,  0.0109],\n",
      "        [-0.0326,  0.0008,  0.0070,  ...,  0.0235,  0.0230, -0.0123],\n",
      "        [ 0.0325,  0.0233,  0.0014,  ...,  0.0356, -0.0268,  0.0114]],\n",
      "       requires_grad=True)\n",
      "Parameter containing:\n",
      "tensor([ 0.0055, -0.0134, -0.0269,  0.0044, -0.0094,  0.0115,  0.0314, -0.0107,\n",
      "        -0.0148,  0.0101, -0.0066,  0.0056, -0.0299,  0.0297, -0.0174, -0.0050,\n",
      "         0.0058,  0.0100, -0.0206, -0.0344,  0.0126, -0.0156, -0.0056,  0.0074,\n",
      "        -0.0122, -0.0204,  0.0305, -0.0051, -0.0331,  0.0310, -0.0347, -0.0112,\n",
      "         0.0107,  0.0303,  0.0273,  0.0313,  0.0005,  0.0170, -0.0348,  0.0283,\n",
      "        -0.0324, -0.0294,  0.0251, -0.0116,  0.0323,  0.0284, -0.0137,  0.0291,\n",
      "        -0.0192, -0.0278,  0.0136,  0.0028,  0.0154,  0.0135, -0.0331, -0.0152,\n",
      "         0.0059, -0.0194,  0.0058,  0.0079,  0.0352,  0.0201, -0.0111, -0.0302,\n",
      "         0.0019,  0.0095, -0.0166,  0.0096, -0.0290, -0.0193, -0.0215, -0.0099,\n",
      "        -0.0146, -0.0309,  0.0004,  0.0100,  0.0067, -0.0162,  0.0254,  0.0239,\n",
      "        -0.0183,  0.0244,  0.0028, -0.0007, -0.0250,  0.0185, -0.0012, -0.0164,\n",
      "        -0.0304,  0.0063, -0.0299, -0.0059,  0.0145, -0.0157,  0.0256,  0.0276,\n",
      "         0.0320, -0.0214,  0.0251,  0.0200, -0.0225,  0.0219, -0.0301, -0.0165,\n",
      "        -0.0154,  0.0004,  0.0218,  0.0320, -0.0068,  0.0295, -0.0061,  0.0263,\n",
      "         0.0254,  0.0261, -0.0188, -0.0181,  0.0293, -0.0274, -0.0190,  0.0271,\n",
      "        -0.0252,  0.0103,  0.0357, -0.0272,  0.0105, -0.0218, -0.0350, -0.0024],\n",
      "       requires_grad=True)\n"
     ]
    }
   ],
   "source": [
    "print(model.fc1.weight)\n",
    "print(model.fc1.bias)"
   ]
  },
  {
   "cell_type": "markdown",
   "metadata": {},
   "source": [
    "### Forward pass\n",
    "\n",
    "Passing some data to out network"
   ]
  },
  {
   "cell_type": "code",
   "execution_count": 13,
   "metadata": {},
   "outputs": [
    {
     "data": {
      "image/png": "[encoded data removed]",
      "text/plain": [
       "<Figure size 432x648 with 2 Axes>"
      ]
     },
     "metadata": {
      "image/png": {
       "height": 235,
       "width": 424
      },
      "needs_background": "light"
     },
     "output_type": "display_data"
    }
   ],
   "source": [
    "# Grab some data \n",
    "dataiter = iter(trainloader)\n",
    "images, labels = dataiter.next()\n",
    "\n",
    "# Resize images into a 1D vector, new shape is (batch size, color channels, image pixels) \n",
    "images.resize_(64, 1, 784)\n",
    "# or images.resize_(images.shape[0], 1, 784) to automatically get batch size\n",
    "\n",
    "# Forward pass through the network\n",
    "img_idx = 0\n",
    "ps = model.forward(images[img_idx,:])\n",
    "\n",
    "img = images[img_idx]\n",
    "helper.view_classify(img.view(1, 28, 28), ps)"
   ]
  },
  {
   "cell_type": "markdown",
   "metadata": {},
   "source": [
    "### Using nn.Sequential\n",
    "\n",
    "Another convenient way of building Networks"
   ]
  },
  {
   "cell_type": "code",
   "execution_count": 14,
   "metadata": {},
   "outputs": [
    {
     "name": "stdout",
     "output_type": "stream",
     "text": [
      "Sequential(\n",
      "  (0): Linear(in_features=784, out_features=128, bias=True)\n",
      "  (1): ReLU()\n",
      "  (2): Linear(in_features=128, out_features=64, bias=True)\n",
      "  (3): ReLU()\n",
      "  (4): Linear(in_features=64, out_features=10, bias=True)\n",
      "  (5): Softmax(dim=1)\n",
      ")\n"
     ]
    },
    {
     "data": {
      "image/png": "[encoded data removed]",
      "text/plain": [
       "<Figure size 432x648 with 2 Axes>"
      ]
     },
     "metadata": {
      "image/png": {
       "height": 235,
       "width": 424
      },
      "needs_background": "light"
     },
     "output_type": "display_data"
    }
   ],
   "source": [
    "# Hyperparameters for our network\n",
    "input_size = 784\n",
    "hidden_sizes = [128, 64]\n",
    "output_size = 10\n",
    "\n",
    "# Build a feed-forward network\n",
    "model = nn.Sequential(nn.Linear(input_size, hidden_sizes[0]),\n",
    "                      nn.ReLU(),\n",
    "                      nn.Linear(hidden_sizes[0], hidden_sizes[1]),\n",
    "                      nn.ReLU(),\n",
    "                      nn.Linear(hidden_sizes[1], output_size),\n",
    "                      nn.Softmax(dim=1))\n",
    "print(model)\n",
    "\n",
    "# Forward pass through the network and display output\n",
    "images, labels = next(iter(trainloader))\n",
    "images.resize_(images.shape[0], 1, 784)\n",
    "ps = model.forward(images[0,:])\n",
    "helper.view_classify(images[0].view(1, 28, 28), ps)"
   ]
  },
  {
   "cell_type": "code",
   "execution_count": 15,
   "metadata": {},
   "outputs": [
    {
     "name": "stdout",
     "output_type": "stream",
     "text": [
      "Linear(in_features=784, out_features=128, bias=True)\n"
     ]
    },
    {
     "data": {
      "text/plain": [
       "Parameter containing:\n",
       "tensor([[ 0.0224, -0.0075,  0.0236,  ...,  0.0028, -0.0048,  0.0200],\n",
       "        [-0.0179,  0.0301,  0.0271,  ...,  0.0082,  0.0315,  0.0205],\n",
       "        [-0.0102,  0.0096, -0.0153,  ..., -0.0347,  0.0288,  0.0289],\n",
       "        ...,\n",
       "        [ 0.0124,  0.0030, -0.0112,  ...,  0.0056, -0.0277, -0.0187],\n",
       "        [-0.0282,  0.0246, -0.0214,  ...,  0.0198,  0.0282, -0.0303],\n",
       "        [-0.0343, -0.0022, -0.0073,  ..., -0.0117,  0.0013, -0.0152]],\n",
       "       requires_grad=True)"
      ]
     },
     "execution_count": 15,
     "metadata": {},
     "output_type": "execute_result"
    }
   ],
   "source": [
    "print(model[0])\n",
    "model[0].weight"
   ]
  }
 ],
 "metadata": {
  "kernelspec": {
   "display_name": "Python 3",
   "language": "python",
   "name": "python3"
  },
  "language_info": {
   "codemirror_mode": {
    "name": "ipython",
    "version": 3
   },
   "file_extension": ".py",
   "mimetype": "text/x-python",
   "name": "python",
   "nbconvert_exporter": "python",
   "pygments_lexer": "ipython3",
   "version": "3.7.4"
  }
 },
 "nbformat": 4,
 "nbformat_minor": 2
}
