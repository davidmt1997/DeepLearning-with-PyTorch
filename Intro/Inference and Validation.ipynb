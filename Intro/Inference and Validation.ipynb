{
 "cells": [
  {
   "cell_type": "markdown",
   "metadata": {},
   "source": [
    "## Inference and validation"
   ]
  },
  {
   "cell_type": "markdown",
   "metadata": {},
   "source": [
    "Here we will use our neural network to make predictions (inference)\n",
    "\n",
    "To avoid overfitting, we will use a validation set to test the performance during training"
   ]
  },
  {
   "cell_type": "code",
   "execution_count": 1,
   "metadata": {},
   "outputs": [],
   "source": [
    "import torch\n",
    "from torchvision import datasets, transforms\n",
    "\n",
    "# Define a transform to normalize the data\n",
    "transform = transforms.Compose([transforms.ToTensor(),\n",
    "                                transforms.Normalize((0.5,), (0.5,))])\n",
    "# Download and load the training data\n",
    "trainset = datasets.FashionMNIST('~/.pytorch/F_MNIST_data/', download=True, train=True, transform=transform)\n",
    "trainloader = torch.utils.data.DataLoader(trainset, batch_size=64, shuffle=True)\n",
    "\n",
    "# Download and load the test data\n",
    "testset = datasets.FashionMNIST('~/.pytorch/F_MNIST_data/', download=True, train=False, transform=transform)\n",
    "testloader = torch.utils.data.DataLoader(testset, batch_size=64, shuffle=True)"
   ]
  },
  {
   "cell_type": "code",
   "execution_count": 2,
   "metadata": {},
   "outputs": [],
   "source": [
    "# Creating a model as usual\n",
    "from torch import nn, optim\n",
    "import torch.nn.functional as F\n",
    "\n",
    "class Classifier(nn.Module):\n",
    "    def __init__(self):\n",
    "        super().__init__()\n",
    "        self.fc1 = nn.Linear(784, 256)\n",
    "        self.fc2 = nn.Linear(256, 128)\n",
    "        self.fc3 = nn.Linear(128, 64)\n",
    "        self.fc4 = nn.Linear(64, 10)\n",
    "        \n",
    "    def forward(self, x):\n",
    "        # make sure input tensor is flattened\n",
    "        x = x.view(x.shape[0], -1)\n",
    "        \n",
    "        x = F.relu(self.fc1(x))\n",
    "        x = F.relu(self.fc2(x))\n",
    "        x = F.relu(self.fc3(x))\n",
    "        x = F.log_softmax(self.fc4(x), dim=1)\n",
    "        \n",
    "        return x"
   ]
  },
  {
   "cell_type": "markdown",
   "metadata": {},
   "source": [
    "The goal of validation is to measure the model's performance on data that isn't part of the training set. \n",
    "\n",
    "Performance here is up to the developer to define though. Typically this is just accuracy, the percentage of classes the network predicted correctly."
   ]
  },
  {
   "cell_type": "code",
   "execution_count": 3,
   "metadata": {},
   "outputs": [
    {
     "name": "stdout",
     "output_type": "stream",
     "text": [
      "torch.Size([64, 10])\n"
     ]
    }
   ],
   "source": [
    "model = Classifier()\n",
    "\n",
    "images, labels = next(iter(testloader))\n",
    "# Get the class probabilities\n",
    "ps = torch.exp(model(images))\n",
    "# Make sure the shape is appropriate, we should get 10 class probabilities for 64 examples\n",
    "print(ps.shape)"
   ]
  },
  {
   "cell_type": "markdown",
   "metadata": {},
   "source": [
    "With the probabilities, we can get the most likely class using the ps.topk method. This returns the 𝑘 highest values. Since we just want the most likely class, we can use ps.topk(1)"
   ]
  },
  {
   "cell_type": "code",
   "execution_count": 4,
   "metadata": {},
   "outputs": [
    {
     "name": "stdout",
     "output_type": "stream",
     "text": [
      "tensor([[3],\n",
      "        [3],\n",
      "        [3],\n",
      "        [3],\n",
      "        [3],\n",
      "        [1],\n",
      "        [3],\n",
      "        [3],\n",
      "        [3],\n",
      "        [3]])\n"
     ]
    }
   ],
   "source": [
    "top_p, top_class = ps.topk(1, dim=1)\n",
    "# Look at the most likely classes for the first 10 examples\n",
    "print(top_class[:10,:])"
   ]
  },
  {
   "cell_type": "markdown",
   "metadata": {},
   "source": [
    "Now we can check if the predicted classes match the labels\n",
    "\n",
    "We have to be careful of the shapes. Here top_class is a 2D tensor with shape (64, 1) while labels is 1D with shape (64)"
   ]
  },
  {
   "cell_type": "code",
   "execution_count": 5,
   "metadata": {},
   "outputs": [],
   "source": [
    "# equals will have shape (64, 64)\n",
    "# It is comparing the one element in each row of top_class with each element in labels \n",
    "# returns 64 True/False boolean values for each row.\n",
    "equals = top_class == labels.view(*top_class.shape)"
   ]
  },
  {
   "cell_type": "code",
   "execution_count": 6,
   "metadata": {},
   "outputs": [
    {
     "name": "stdout",
     "output_type": "stream",
     "text": [
      "Accuracy: 7.8125%\n"
     ]
    }
   ],
   "source": [
    "# calculating the percentage of correct predictions\n",
    "accuracy = torch.mean(equals.type(torch.FloatTensor))\n",
    "print(f'Accuracy: {accuracy.item()*100}%')"
   ]
  },
  {
   "cell_type": "code",
   "execution_count": 7,
   "metadata": {},
   "outputs": [
    {
     "name": "stdout",
     "output_type": "stream",
     "text": [
      "Epoch: 1/30..  Training Loss: 0.517..  Test Loss: 0.461..  Test Accuracy: 0.822\n",
      "Accuracy: 12903.125%\n",
      "Epoch: 2/30..  Training Loss: 0.391..  Test Loss: 0.411..  Test Accuracy: 0.848\n",
      "Accuracy: 13315.625%\n",
      "Epoch: 3/30..  Training Loss: 0.356..  Test Loss: 0.399..  Test Accuracy: 0.854\n",
      "Accuracy: 13400.0%\n",
      "Epoch: 4/30..  Training Loss: 0.332..  Test Loss: 0.421..  Test Accuracy: 0.857\n",
      "Accuracy: 13448.4375%\n",
      "Epoch: 5/30..  Training Loss: 0.317..  Test Loss: 0.379..  Test Accuracy: 0.867\n",
      "Accuracy: 13617.1875%\n",
      "Epoch: 6/30..  Training Loss: 0.301..  Test Loss: 0.371..  Test Accuracy: 0.868\n",
      "Accuracy: 13625.0%\n",
      "Epoch: 7/30..  Training Loss: 0.288..  Test Loss: 0.390..  Test Accuracy: 0.865\n",
      "Accuracy: 13579.6875%\n",
      "Epoch: 8/30..  Training Loss: 0.281..  Test Loss: 0.355..  Test Accuracy: 0.879\n",
      "Accuracy: 13800.0%\n",
      "Epoch: 9/30..  Training Loss: 0.272..  Test Loss: 0.362..  Test Accuracy: 0.875\n",
      "Accuracy: 13734.375%\n",
      "Epoch: 10/30..  Training Loss: 0.266..  Test Loss: 0.341..  Test Accuracy: 0.880\n",
      "Accuracy: 13821.875%\n",
      "Epoch: 11/30..  Training Loss: 0.257..  Test Loss: 0.370..  Test Accuracy: 0.878\n",
      "Accuracy: 13789.0625%\n",
      "Epoch: 12/30..  Training Loss: 0.251..  Test Loss: 0.358..  Test Accuracy: 0.880\n",
      "Accuracy: 13818.75%\n",
      "Epoch: 13/30..  Training Loss: 0.245..  Test Loss: 0.414..  Test Accuracy: 0.863\n",
      "Accuracy: 13553.125%\n",
      "Epoch: 14/30..  Training Loss: 0.241..  Test Loss: 0.363..  Test Accuracy: 0.879\n",
      "Accuracy: 13801.5625%\n",
      "Epoch: 15/30..  Training Loss: 0.236..  Test Loss: 0.388..  Test Accuracy: 0.870\n",
      "Accuracy: 13665.625%\n",
      "Epoch: 16/30..  Training Loss: 0.229..  Test Loss: 0.363..  Test Accuracy: 0.882\n",
      "Accuracy: 13846.875%\n",
      "Epoch: 17/30..  Training Loss: 0.225..  Test Loss: 0.380..  Test Accuracy: 0.883\n",
      "Accuracy: 13862.5%\n",
      "Epoch: 18/30..  Training Loss: 0.219..  Test Loss: 0.403..  Test Accuracy: 0.877\n",
      "Accuracy: 13773.4375%\n",
      "Epoch: 19/30..  Training Loss: 0.214..  Test Loss: 0.378..  Test Accuracy: 0.884\n",
      "Accuracy: 13885.9375%\n",
      "Epoch: 20/30..  Training Loss: 0.215..  Test Loss: 0.384..  Test Accuracy: 0.881\n",
      "Accuracy: 13835.9375%\n",
      "Epoch: 21/30..  Training Loss: 0.206..  Test Loss: 0.425..  Test Accuracy: 0.873\n",
      "Accuracy: 13698.4375%\n",
      "Epoch: 22/30..  Training Loss: 0.206..  Test Loss: 0.384..  Test Accuracy: 0.883\n",
      "Accuracy: 13867.1875%\n",
      "Epoch: 23/30..  Training Loss: 0.201..  Test Loss: 0.433..  Test Accuracy: 0.876\n",
      "Accuracy: 13750.0%\n",
      "Epoch: 24/30..  Training Loss: 0.202..  Test Loss: 0.424..  Test Accuracy: 0.880\n",
      "Accuracy: 13817.1875%\n",
      "Epoch: 25/30..  Training Loss: 0.196..  Test Loss: 0.427..  Test Accuracy: 0.878\n",
      "Accuracy: 13778.125%\n",
      "Epoch: 26/30..  Training Loss: 0.194..  Test Loss: 0.418..  Test Accuracy: 0.881\n",
      "Accuracy: 13834.375%\n",
      "Epoch: 27/30..  Training Loss: 0.191..  Test Loss: 0.426..  Test Accuracy: 0.878\n",
      "Accuracy: 13781.25%\n",
      "Epoch: 28/30..  Training Loss: 0.185..  Test Loss: 0.434..  Test Accuracy: 0.883\n",
      "Accuracy: 13870.3125%\n",
      "Epoch: 29/30..  Training Loss: 0.187..  Test Loss: 0.470..  Test Accuracy: 0.875\n",
      "Accuracy: 13735.9375%\n",
      "Epoch: 30/30..  Training Loss: 0.185..  Test Loss: 0.412..  Test Accuracy: 0.883\n",
      "Accuracy: 13865.625%\n"
     ]
    }
   ],
   "source": [
    "# Implementing validation and printing out accuracy in each loop\n",
    "\n",
    "model = Classifier()\n",
    "criterion = nn.NLLLoss()\n",
    "optimizer = optim.Adam(model.parameters(), lr=0.003)\n",
    "\n",
    "epochs = 30\n",
    "steps = 0\n",
    "\n",
    "train_losses, test_losses = [], []\n",
    "for e in range(epochs):\n",
    "    running_loss = 0\n",
    "    for images, labels in trainloader:\n",
    "        \n",
    "        optimizer.zero_grad()\n",
    "        \n",
    "        log_ps = model(images)\n",
    "        loss = criterion(log_ps, labels)\n",
    "        loss.backward()\n",
    "        optimizer.step()\n",
    "        \n",
    "        running_loss += loss.item()\n",
    "        \n",
    "    else:\n",
    "        test_loss = 0\n",
    "        accuracy = 0\n",
    "        with torch.no_grad():\n",
    "            for images, labels in testloader:\n",
    "                log_ps = model(images)\n",
    "                test_loss += criterion(log_ps, labels)\n",
    "                \n",
    "                ps = torch.exp(log_ps)\n",
    "                top_p, top_class = ps.topk(1, dim=1)\n",
    "                equals = top_class == labels.view(*top_class.shape)\n",
    "                accuracy += torch.mean(equals.type(torch.FloatTensor))\n",
    "                \n",
    "        train_losses.append(running_loss/len(trainloader))\n",
    "        test_losses.append(test_loss/len(testloader))\n",
    "\n",
    "        print(\"Epoch: {}/{}.. \".format(e+1, epochs),\n",
    "              \"Training Loss: {:.3f}.. \".format(running_loss/len(trainloader)),\n",
    "              \"Test Loss: {:.3f}.. \".format(test_loss/len(testloader)),\n",
    "              \"Test Accuracy: {:.3f}\".format(accuracy/len(testloader)))\n",
    "        print(f'Accuracy: {accuracy.item()*100}%')"
   ]
  },
  {
   "cell_type": "markdown",
   "metadata": {},
   "source": [
    "## Overfitting"
   ]
  },
  {
   "cell_type": "markdown",
   "metadata": {},
   "source": [
    "Neural networks tend to overfit because they become too familiar with the training data and they hace problems generalizing.\n",
    "\n",
    "The most common method to reduce overfitting (outside of early-stopping) is dropout, where we randomly drop input units. This forces the network to share information between weights, increasing it's ability to generalize to new data. Adding dropout in PyTorch is straightforward using the nn.Dropout module."
   ]
  },
  {
   "cell_type": "code",
   "execution_count": 8,
   "metadata": {},
   "outputs": [],
   "source": [
    "# Adding dropout to our model\n",
    "\n",
    "class Classifier(nn.Module):\n",
    "    def __init__(self):\n",
    "        super().__init__()\n",
    "        self.fc1 = nn.Linear(784, 256)\n",
    "        self.fc2 = nn.Linear(256, 128)\n",
    "        self.fc3 = nn.Linear(128, 64)\n",
    "        self.fc4 = nn.Linear(64, 10)\n",
    "\n",
    "        # Dropout module with 0.2 drop probability\n",
    "        self.dropout = nn.Dropout(p=0.2)\n",
    "\n",
    "    def forward(self, x):\n",
    "        # make sure input tensor is flattened\n",
    "        x = x.view(x.shape[0], -1)\n",
    "\n",
    "        # Now with dropout\n",
    "        x = self.dropout(F.relu(self.fc1(x)))\n",
    "        x = self.dropout(F.relu(self.fc2(x)))\n",
    "        x = self.dropout(F.relu(self.fc3(x)))\n",
    "\n",
    "        # output so no dropout here\n",
    "        x = F.log_softmax(self.fc4(x), dim=1)\n",
    "\n",
    "        return x"
   ]
  },
  {
   "cell_type": "code",
   "execution_count": 9,
   "metadata": {},
   "outputs": [
    {
     "name": "stdout",
     "output_type": "stream",
     "text": [
      "Epoch: 1/30..  Training Loss: 0.604..  Test Loss: 0.470..  Test Accuracy: 0.832\n",
      "Epoch: 2/30..  Training Loss: 0.484..  Test Loss: 0.452..  Test Accuracy: 0.843\n",
      "Epoch: 3/30..  Training Loss: 0.455..  Test Loss: 0.407..  Test Accuracy: 0.856\n",
      "Epoch: 4/30..  Training Loss: 0.435..  Test Loss: 0.400..  Test Accuracy: 0.855\n",
      "Epoch: 5/30..  Training Loss: 0.418..  Test Loss: 0.415..  Test Accuracy: 0.851\n",
      "Epoch: 6/30..  Training Loss: 0.410..  Test Loss: 0.380..  Test Accuracy: 0.865\n",
      "Epoch: 7/30..  Training Loss: 0.403..  Test Loss: 0.411..  Test Accuracy: 0.862\n",
      "Epoch: 8/30..  Training Loss: 0.396..  Test Loss: 0.390..  Test Accuracy: 0.865\n",
      "Epoch: 9/30..  Training Loss: 0.396..  Test Loss: 0.406..  Test Accuracy: 0.857\n",
      "Epoch: 10/30..  Training Loss: 0.391..  Test Loss: 0.371..  Test Accuracy: 0.866\n",
      "Epoch: 11/30..  Training Loss: 0.381..  Test Loss: 0.386..  Test Accuracy: 0.871\n",
      "Epoch: 12/30..  Training Loss: 0.379..  Test Loss: 0.393..  Test Accuracy: 0.862\n",
      "Epoch: 13/30..  Training Loss: 0.379..  Test Loss: 0.376..  Test Accuracy: 0.863\n",
      "Epoch: 14/30..  Training Loss: 0.374..  Test Loss: 0.380..  Test Accuracy: 0.863\n",
      "Epoch: 15/30..  Training Loss: 0.375..  Test Loss: 0.371..  Test Accuracy: 0.873\n",
      "Epoch: 16/30..  Training Loss: 0.362..  Test Loss: 0.399..  Test Accuracy: 0.866\n",
      "Epoch: 17/30..  Training Loss: 0.363..  Test Loss: 0.399..  Test Accuracy: 0.865\n",
      "Epoch: 18/30..  Training Loss: 0.355..  Test Loss: 0.386..  Test Accuracy: 0.867\n",
      "Epoch: 19/30..  Training Loss: 0.361..  Test Loss: 0.381..  Test Accuracy: 0.868\n",
      "Epoch: 20/30..  Training Loss: 0.358..  Test Loss: 0.381..  Test Accuracy: 0.866\n",
      "Epoch: 21/30..  Training Loss: 0.369..  Test Loss: 0.371..  Test Accuracy: 0.876\n",
      "Epoch: 22/30..  Training Loss: 0.355..  Test Loss: 0.376..  Test Accuracy: 0.871\n",
      "Epoch: 23/30..  Training Loss: 0.357..  Test Loss: 0.370..  Test Accuracy: 0.873\n",
      "Epoch: 24/30..  Training Loss: 0.354..  Test Loss: 0.362..  Test Accuracy: 0.876\n",
      "Epoch: 25/30..  Training Loss: 0.348..  Test Loss: 0.373..  Test Accuracy: 0.872\n",
      "Epoch: 26/30..  Training Loss: 0.344..  Test Loss: 0.361..  Test Accuracy: 0.872\n",
      "Epoch: 27/30..  Training Loss: 0.350..  Test Loss: 0.379..  Test Accuracy: 0.872\n",
      "Epoch: 28/30..  Training Loss: 0.348..  Test Loss: 0.367..  Test Accuracy: 0.871\n",
      "Epoch: 29/30..  Training Loss: 0.346..  Test Loss: 0.363..  Test Accuracy: 0.876\n",
      "Epoch: 30/30..  Training Loss: 0.343..  Test Loss: 0.411..  Test Accuracy: 0.861\n"
     ]
    }
   ],
   "source": [
    "# Training and see if we can get better accuracy\n",
    "model = Classifier()\n",
    "criterion = nn.NLLLoss()\n",
    "optimizer = optim.Adam(model.parameters(), lr=0.003)\n",
    "\n",
    "epochs = 30\n",
    "steps = 0\n",
    "\n",
    "train_losses, test_losses = [], []\n",
    "for e in range(epochs):\n",
    "    running_loss = 0\n",
    "    for images, labels in trainloader:\n",
    "        \n",
    "        optimizer.zero_grad()\n",
    "        \n",
    "        log_ps = model(images)\n",
    "        loss = criterion(log_ps, labels)\n",
    "        loss.backward()\n",
    "        optimizer.step()\n",
    "        \n",
    "        running_loss += loss.item()\n",
    "        \n",
    "    else:\n",
    "        test_loss = 0\n",
    "        accuracy = 0\n",
    "        \n",
    "        # Turn off gradients for validation, saves memory and computations\n",
    "        with torch.no_grad():\n",
    "            model.eval()\n",
    "            for images, labels in testloader:\n",
    "                log_ps = model(images)\n",
    "                test_loss += criterion(log_ps, labels)\n",
    "                \n",
    "                ps = torch.exp(log_ps)\n",
    "                top_p, top_class = ps.topk(1, dim=1)\n",
    "                equals = top_class == labels.view(*top_class.shape)\n",
    "                accuracy += torch.mean(equals.type(torch.FloatTensor))\n",
    "        \n",
    "        model.train()\n",
    "        \n",
    "        train_losses.append(running_loss/len(trainloader))\n",
    "        test_losses.append(test_loss/len(testloader))\n",
    "\n",
    "        print(\"Epoch: {}/{}.. \".format(e+1, epochs),\n",
    "              \"Training Loss: {:.3f}.. \".format(train_losses[-1]),\n",
    "              \"Test Loss: {:.3f}.. \".format(test_losses[-1]),\n",
    "              \"Test Accuracy: {:.3f}\".format(accuracy/len(testloader)))"
   ]
  },
  {
   "cell_type": "markdown",
   "metadata": {},
   "source": [
    "## Inference"
   ]
  },
  {
   "cell_type": "markdown",
   "metadata": {},
   "source": [
    "Now that the model is trained, we can use it for inference. We need to remember to set the model in inference mode with model.eval(). You'll also want to turn off autograd with the torch.no_grad() context."
   ]
  },
  {
   "cell_type": "code",
   "execution_count": 11,
   "metadata": {},
   "outputs": [
    {
     "data": {
      "image/png": "[encoded data removed]",
      "text/plain": [
       "<Figure size 432x648 with 2 Axes>"
      ]
     },
     "metadata": {
      "needs_background": "light"
     },
     "output_type": "display_data"
    }
   ],
   "source": [
    "# Import helper module (should be in the repo)\n",
    "import helper\n",
    "\n",
    "# Test out your network!\n",
    "\n",
    "model.eval()\n",
    "\n",
    "dataiter = iter(testloader)\n",
    "images, labels = dataiter.next()\n",
    "img = images[0]\n",
    "# Convert 2D image to 1D vector\n",
    "img = img.view(1, 784)\n",
    "\n",
    "# Calculate the class probabilities (softmax) for img\n",
    "with torch.no_grad():\n",
    "    output = model.forward(img)\n",
    "\n",
    "ps = torch.exp(output)\n",
    "\n",
    "# Plot the image and probabilities\n",
    "helper.view_classify(img.view(1, 28, 28), ps, version='Fashion')"
   ]
  }
 ],
 "metadata": {
  "kernelspec": {
   "display_name": "Python 3",
   "language": "python",
   "name": "python3"
  },
  "language_info": {
   "codemirror_mode": {
    "name": "ipython",
    "version": 3
   },
   "file_extension": ".py",
   "mimetype": "text/x-python",
   "name": "python",
   "nbconvert_exporter": "python",
   "pygments_lexer": "ipython3",
   "version": "3.7.4"
  }
 },
 "nbformat": 4,
 "nbformat_minor": 2
}
